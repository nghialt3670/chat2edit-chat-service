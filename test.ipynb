{
 "cells": [
  {
   "cell_type": "code",
   "execution_count": 13,
   "metadata": {},
   "outputs": [],
   "source": [
    "async def detect():\n",
    "  pass"
   ]
  },
  {
   "cell_type": "code",
   "execution_count": 14,
   "metadata": {},
   "outputs": [],
   "source": [
    "context = {\n",
    "  'detect': detect\n",
    "}"
   ]
  },
  {
   "cell_type": "code",
   "execution_count": 66,
   "metadata": {},
   "outputs": [],
   "source": [
    "import ast\n",
    "import inspect\n",
    "import re\n",
    "from typing import Any, Dict\n",
    "\n",
    "\n",
    "def preprocess_command(command: str, context: Dict[str, Any]) -> str:\n",
    "    def replace_var(var):\n",
    "        # If it is a defined coroutine function (already in context)\n",
    "        if var in context and inspect.iscoroutinefunction(context[var]):\n",
    "            return f\"await __context['{var}']\"\n",
    "\n",
    "        return f\"__context['{var}']\"\n",
    "      \n",
    "    processed_command = command\n",
    "    while True:\n",
    "        # Re-parse the command to get fresh AST after each replacement\n",
    "        node_iter = ast.walk(ast.parse(processed_command, mode=\"exec\"))\n",
    "        replacements = []\n",
    "\n",
    "        for node in node_iter:\n",
    "            if isinstance(node, ast.Name) and node.id != \"__context\":\n",
    "                start, end = node.col_offset, node.end_col_offset\n",
    "                replacements.append((start, end, replace_var(processed_command[start:end])))\n",
    "\n",
    "        if not replacements:\n",
    "            break\n",
    "\n",
    "        # Apply replacements in reverse order to avoid messing up indices\n",
    "        for start, end, replacement in sorted(replacements, reverse=True):\n",
    "            processed_command = processed_command[:start] + replacement + processed_command[end:]\n",
    "\n",
    "    return processed_command\n",
    "\n",
    "      "
   ]
  },
  {
   "cell_type": "code",
   "execution_count": 67,
   "metadata": {},
   "outputs": [
    {
     "data": {
      "text/plain": [
       "\"__context['rose'] = await __context['detect'](__context['image'], prompt='rose')\""
      ]
     },
     "execution_count": 67,
     "metadata": {},
     "output_type": "execute_result"
    }
   ],
   "source": [
    "preprocess_command(\"rose = detect(image, prompt='rose')\", context)"
   ]
  }
 ],
 "metadata": {
  "kernelspec": {
   "display_name": "chat-service",
   "language": "python",
   "name": "python3"
  },
  "language_info": {
   "codemirror_mode": {
    "name": "ipython",
    "version": 3
   },
   "file_extension": ".py",
   "mimetype": "text/x-python",
   "name": "python",
   "nbconvert_exporter": "python",
   "pygments_lexer": "ipython3",
   "version": "3.12.4"
  }
 },
 "nbformat": 4,
 "nbformat_minor": 2
}
